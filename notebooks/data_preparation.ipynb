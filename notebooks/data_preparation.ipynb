{
 "cells": [
  {
   "cell_type": "code",
   "execution_count": 1,
   "id": "814f007d-a743-4771-b50f-567688b28998",
   "metadata": {},
   "outputs": [
    {
     "name": "stdout",
     "output_type": "stream",
     "text": [
      "Requirement already satisfied: openpyxl in /Volumes/Mayur/Studies/NHS-Readmissions-Analysis/venv/lib/python3.12/site-packages (3.1.5)\n",
      "Requirement already satisfied: et-xmlfile in /Volumes/Mayur/Studies/NHS-Readmissions-Analysis/venv/lib/python3.12/site-packages (from openpyxl) (2.0.0)\n",
      "\n",
      "\u001b[1m[\u001b[0m\u001b[34;49mnotice\u001b[0m\u001b[1;39;49m]\u001b[0m\u001b[39;49m A new release of pip is available: \u001b[0m\u001b[31;49m24.2\u001b[0m\u001b[39;49m -> \u001b[0m\u001b[32;49m25.0.1\u001b[0m\n",
      "\u001b[1m[\u001b[0m\u001b[34;49mnotice\u001b[0m\u001b[1;39;49m]\u001b[0m\u001b[39;49m To update, run: \u001b[0m\u001b[32;49mpip install --upgrade pip\u001b[0m\n"
     ]
    }
   ],
   "source": [
    "!pip install openpyxl\n",
    "import os\n",
    "import sys\n",
    "import pandas as pd\n",
    "\n",
    "# Add root directory of the project to system.path\n",
    "sys.path.append(os.path.abspath('..'))\n",
    "\n",
    "from db.db_utils import get_engine, insert_dataframe_to_db, run_query\n",
    "from dotenv import load_dotenv"
   ]
  },
  {
   "cell_type": "code",
   "execution_count": 2,
   "id": "014f5c96-e114-4f5d-9397-7c4e77ba27fd",
   "metadata": {},
   "outputs": [
    {
     "data": {
      "text/plain": [
       "True"
      ]
     },
     "execution_count": 2,
     "metadata": {},
     "output_type": "execute_result"
    }
   ],
   "source": [
    "# Load environement variables\n",
    "load_dotenv()"
   ]
  },
  {
   "cell_type": "markdown",
   "id": "47d1731d-2abe-4a06-8eb6-0e23c8d3823f",
   "metadata": {},
   "source": [
    "#### Load the raw data (CSV/Excel) into a DataFrame"
   ]
  },
  {
   "cell_type": "code",
   "execution_count": 3,
   "id": "80a8dcfb-1d0f-4562-b690-90fe15599b2b",
   "metadata": {},
   "outputs": [
    {
     "data": {
      "text/html": [
       "<div>\n",
       "<style scoped>\n",
       "    .dataframe tbody tr th:only-of-type {\n",
       "        vertical-align: middle;\n",
       "    }\n",
       "\n",
       "    .dataframe tbody tr th {\n",
       "        vertical-align: top;\n",
       "    }\n",
       "\n",
       "    .dataframe thead th {\n",
       "        text-align: right;\n",
       "    }\n",
       "</style>\n",
       "<table border=\"1\" class=\"dataframe\">\n",
       "  <thead>\n",
       "    <tr style=\"text-align: right;\">\n",
       "      <th></th>\n",
       "      <th>Year</th>\n",
       "      <th>Quarter</th>\n",
       "      <th>Period of coverage</th>\n",
       "      <th>Breakdown</th>\n",
       "      <th>Level</th>\n",
       "      <th>Level description</th>\n",
       "      <th>Indicator value</th>\n",
       "      <th>Lower CI</th>\n",
       "      <th>Upper CI</th>\n",
       "      <th>Standardised ratio</th>\n",
       "      <th>Standardised ratio lower CI</th>\n",
       "      <th>Standardised ratio upper CI</th>\n",
       "      <th>Observed</th>\n",
       "      <th>Population</th>\n",
       "      <th>Expected</th>\n",
       "      <th>Percent unclassified</th>\n",
       "    </tr>\n",
       "  </thead>\n",
       "  <tbody>\n",
       "    <tr>\n",
       "      <th>0</th>\n",
       "      <td>2023/24</td>\n",
       "      <td>Annual</td>\n",
       "      <td>1/4/2023 to 31/3/2024</td>\n",
       "      <td>England</td>\n",
       "      <td>England</td>\n",
       "      <td>England</td>\n",
       "      <td>841.8</td>\n",
       "      <td>839.5</td>\n",
       "      <td>844.1</td>\n",
       "      <td>102.6</td>\n",
       "      <td>102.3</td>\n",
       "      <td>102.9</td>\n",
       "      <td>521065</td>\n",
       "      <td>57690300</td>\n",
       "      <td>507865.9</td>\n",
       "      <td>NaN</td>\n",
       "    </tr>\n",
       "    <tr>\n",
       "      <th>1</th>\n",
       "      <td>2022/23</td>\n",
       "      <td>Annual</td>\n",
       "      <td>1/4/2022 to 31/3/2023</td>\n",
       "      <td>England</td>\n",
       "      <td>England</td>\n",
       "      <td>England</td>\n",
       "      <td>780.8</td>\n",
       "      <td>778.6</td>\n",
       "      <td>783</td>\n",
       "      <td>95.2</td>\n",
       "      <td>94.9</td>\n",
       "      <td>95.4</td>\n",
       "      <td>476774</td>\n",
       "      <td>57106400</td>\n",
       "      <td>500993.5</td>\n",
       "      <td>NaN</td>\n",
       "    </tr>\n",
       "    <tr>\n",
       "      <th>2</th>\n",
       "      <td>2021/22</td>\n",
       "      <td>Annual</td>\n",
       "      <td>1/4/2021 to 31/3/2022</td>\n",
       "      <td>England</td>\n",
       "      <td>England</td>\n",
       "      <td>England</td>\n",
       "      <td>808.9</td>\n",
       "      <td>806.6</td>\n",
       "      <td>811.2</td>\n",
       "      <td>98.6</td>\n",
       "      <td>98.3</td>\n",
       "      <td>98.9</td>\n",
       "      <td>486173</td>\n",
       "      <td>56554900</td>\n",
       "      <td>493128.1</td>\n",
       "      <td>NaN</td>\n",
       "    </tr>\n",
       "    <tr>\n",
       "      <th>3</th>\n",
       "      <td>2020/21</td>\n",
       "      <td>Annual</td>\n",
       "      <td>1/4/2020 to 31/3/2021</td>\n",
       "      <td>England</td>\n",
       "      <td>England</td>\n",
       "      <td>England</td>\n",
       "      <td>662.2</td>\n",
       "      <td>660.2</td>\n",
       "      <td>664.3</td>\n",
       "      <td>80.7</td>\n",
       "      <td>80.5</td>\n",
       "      <td>81</td>\n",
       "      <td>397738</td>\n",
       "      <td>56550100</td>\n",
       "      <td>492767.4</td>\n",
       "      <td>NaN</td>\n",
       "    </tr>\n",
       "    <tr>\n",
       "      <th>4</th>\n",
       "      <td>2019/20</td>\n",
       "      <td>Annual</td>\n",
       "      <td>1/4/2019 to 31/3/2020</td>\n",
       "      <td>England</td>\n",
       "      <td>England</td>\n",
       "      <td>England</td>\n",
       "      <td>862.1</td>\n",
       "      <td>859.8</td>\n",
       "      <td>864.5</td>\n",
       "      <td>105.1</td>\n",
       "      <td>104.8</td>\n",
       "      <td>105.4</td>\n",
       "      <td>512608</td>\n",
       "      <td>56287000</td>\n",
       "      <td>487822.8</td>\n",
       "      <td>NaN</td>\n",
       "    </tr>\n",
       "  </tbody>\n",
       "</table>\n",
       "</div>"
      ],
      "text/plain": [
       "      Year Quarter     Period of coverage Breakdown    Level  \\\n",
       "0  2023/24  Annual  1/4/2023 to 31/3/2024   England  England   \n",
       "1  2022/23  Annual  1/4/2022 to 31/3/2023   England  England   \n",
       "2  2021/22  Annual  1/4/2021 to 31/3/2022   England  England   \n",
       "3  2020/21  Annual  1/4/2020 to 31/3/2021   England  England   \n",
       "4  2019/20  Annual  1/4/2019 to 31/3/2020   England  England   \n",
       "\n",
       "  Level description Indicator value Lower CI Upper CI Standardised ratio  \\\n",
       "0           England           841.8    839.5    844.1              102.6   \n",
       "1           England           780.8    778.6      783               95.2   \n",
       "2           England           808.9    806.6    811.2               98.6   \n",
       "3           England           662.2    660.2    664.3               80.7   \n",
       "4           England           862.1    859.8    864.5              105.1   \n",
       "\n",
       "  Standardised ratio lower CI Standardised ratio upper CI Observed  \\\n",
       "0                       102.3                       102.9   521065   \n",
       "1                        94.9                        95.4   476774   \n",
       "2                        98.3                        98.9   486173   \n",
       "3                        80.5                          81   397738   \n",
       "4                       104.8                       105.4   512608   \n",
       "\n",
       "   Population  Expected  Percent unclassified  \n",
       "0    57690300  507865.9                   NaN  \n",
       "1    57106400  500993.5                   NaN  \n",
       "2    56554900  493128.1                   NaN  \n",
       "3    56550100  492767.4                   NaN  \n",
       "4    56287000  487822.8                   NaN  "
      ]
     },
     "execution_count": 3,
     "metadata": {},
     "output_type": "execute_result"
    }
   ],
   "source": [
    "# Load the dataset\n",
    "df_raw = pd.read_excel('../data/raw/NHSOF_2.3.i_I00708_D.xlsx', sheet_name='Indicator data', skiprows=14)\n",
    "df_raw.head()"
   ]
  },
  {
   "cell_type": "markdown",
   "id": "8eace66d-e97f-4831-9480-6eb0a01e74e3",
   "metadata": {},
   "source": [
    "#### Saving the loaded data to new file"
   ]
  },
  {
   "cell_type": "code",
   "execution_count": 4,
   "id": "30d0a82d-8744-4de0-9b4c-01d3dca6bfa7",
   "metadata": {},
   "outputs": [],
   "source": [
    "df_raw.to_csv('../data/processed/emergency_readmission_processed.csv', index=False)"
   ]
  },
  {
   "cell_type": "markdown",
   "id": "7959cc02-ea04-46e0-84a8-b741f7a9e4ec",
   "metadata": {},
   "source": [
    "#### Load Processed Data for Cleaning"
   ]
  },
  {
   "cell_type": "code",
   "execution_count": 5,
   "id": "1f078cbb-19d1-4223-b280-d9f50061548c",
   "metadata": {},
   "outputs": [],
   "source": [
    "df = pd.read_csv('../data/processed/emergency_readmission_processed.csv')"
   ]
  },
  {
   "cell_type": "code",
   "execution_count": 6,
   "id": "551ea47f-fd30-48fa-bd26-cde5448027a5",
   "metadata": {},
   "outputs": [
    {
     "data": {
      "text/html": [
       "<div>\n",
       "<style scoped>\n",
       "    .dataframe tbody tr th:only-of-type {\n",
       "        vertical-align: middle;\n",
       "    }\n",
       "\n",
       "    .dataframe tbody tr th {\n",
       "        vertical-align: top;\n",
       "    }\n",
       "\n",
       "    .dataframe thead th {\n",
       "        text-align: right;\n",
       "    }\n",
       "</style>\n",
       "<table border=\"1\" class=\"dataframe\">\n",
       "  <thead>\n",
       "    <tr style=\"text-align: right;\">\n",
       "      <th></th>\n",
       "      <th>Year</th>\n",
       "      <th>Quarter</th>\n",
       "      <th>Period of coverage</th>\n",
       "      <th>Breakdown</th>\n",
       "      <th>Level</th>\n",
       "      <th>Level description</th>\n",
       "      <th>Indicator value</th>\n",
       "      <th>Lower CI</th>\n",
       "      <th>Upper CI</th>\n",
       "      <th>Standardised ratio</th>\n",
       "      <th>Standardised ratio lower CI</th>\n",
       "      <th>Standardised ratio upper CI</th>\n",
       "      <th>Observed</th>\n",
       "      <th>Population</th>\n",
       "      <th>Expected</th>\n",
       "      <th>Percent unclassified</th>\n",
       "    </tr>\n",
       "  </thead>\n",
       "  <tbody>\n",
       "    <tr>\n",
       "      <th>0</th>\n",
       "      <td>2023/24</td>\n",
       "      <td>Annual</td>\n",
       "      <td>1/4/2023 to 31/3/2024</td>\n",
       "      <td>England</td>\n",
       "      <td>England</td>\n",
       "      <td>England</td>\n",
       "      <td>841.8</td>\n",
       "      <td>839.5</td>\n",
       "      <td>844.1</td>\n",
       "      <td>102.6</td>\n",
       "      <td>102.3</td>\n",
       "      <td>102.9</td>\n",
       "      <td>521065</td>\n",
       "      <td>57690300</td>\n",
       "      <td>507865.9</td>\n",
       "      <td>NaN</td>\n",
       "    </tr>\n",
       "    <tr>\n",
       "      <th>1</th>\n",
       "      <td>2022/23</td>\n",
       "      <td>Annual</td>\n",
       "      <td>1/4/2022 to 31/3/2023</td>\n",
       "      <td>England</td>\n",
       "      <td>England</td>\n",
       "      <td>England</td>\n",
       "      <td>780.8</td>\n",
       "      <td>778.6</td>\n",
       "      <td>783</td>\n",
       "      <td>95.2</td>\n",
       "      <td>94.9</td>\n",
       "      <td>95.4</td>\n",
       "      <td>476774</td>\n",
       "      <td>57106400</td>\n",
       "      <td>500993.5</td>\n",
       "      <td>NaN</td>\n",
       "    </tr>\n",
       "    <tr>\n",
       "      <th>2</th>\n",
       "      <td>2021/22</td>\n",
       "      <td>Annual</td>\n",
       "      <td>1/4/2021 to 31/3/2022</td>\n",
       "      <td>England</td>\n",
       "      <td>England</td>\n",
       "      <td>England</td>\n",
       "      <td>808.9</td>\n",
       "      <td>806.6</td>\n",
       "      <td>811.2</td>\n",
       "      <td>98.6</td>\n",
       "      <td>98.3</td>\n",
       "      <td>98.9</td>\n",
       "      <td>486173</td>\n",
       "      <td>56554900</td>\n",
       "      <td>493128.1</td>\n",
       "      <td>NaN</td>\n",
       "    </tr>\n",
       "    <tr>\n",
       "      <th>3</th>\n",
       "      <td>2020/21</td>\n",
       "      <td>Annual</td>\n",
       "      <td>1/4/2020 to 31/3/2021</td>\n",
       "      <td>England</td>\n",
       "      <td>England</td>\n",
       "      <td>England</td>\n",
       "      <td>662.2</td>\n",
       "      <td>660.2</td>\n",
       "      <td>664.3</td>\n",
       "      <td>80.7</td>\n",
       "      <td>80.5</td>\n",
       "      <td>81</td>\n",
       "      <td>397738</td>\n",
       "      <td>56550100</td>\n",
       "      <td>492767.4</td>\n",
       "      <td>NaN</td>\n",
       "    </tr>\n",
       "    <tr>\n",
       "      <th>4</th>\n",
       "      <td>2019/20</td>\n",
       "      <td>Annual</td>\n",
       "      <td>1/4/2019 to 31/3/2020</td>\n",
       "      <td>England</td>\n",
       "      <td>England</td>\n",
       "      <td>England</td>\n",
       "      <td>862.1</td>\n",
       "      <td>859.8</td>\n",
       "      <td>864.5</td>\n",
       "      <td>105.1</td>\n",
       "      <td>104.8</td>\n",
       "      <td>105.4</td>\n",
       "      <td>512608</td>\n",
       "      <td>56287000</td>\n",
       "      <td>487822.8</td>\n",
       "      <td>NaN</td>\n",
       "    </tr>\n",
       "  </tbody>\n",
       "</table>\n",
       "</div>"
      ],
      "text/plain": [
       "      Year Quarter     Period of coverage Breakdown    Level  \\\n",
       "0  2023/24  Annual  1/4/2023 to 31/3/2024   England  England   \n",
       "1  2022/23  Annual  1/4/2022 to 31/3/2023   England  England   \n",
       "2  2021/22  Annual  1/4/2021 to 31/3/2022   England  England   \n",
       "3  2020/21  Annual  1/4/2020 to 31/3/2021   England  England   \n",
       "4  2019/20  Annual  1/4/2019 to 31/3/2020   England  England   \n",
       "\n",
       "  Level description Indicator value Lower CI Upper CI Standardised ratio  \\\n",
       "0           England           841.8    839.5    844.1              102.6   \n",
       "1           England           780.8    778.6      783               95.2   \n",
       "2           England           808.9    806.6    811.2               98.6   \n",
       "3           England           662.2    660.2    664.3               80.7   \n",
       "4           England           862.1    859.8    864.5              105.1   \n",
       "\n",
       "  Standardised ratio lower CI Standardised ratio upper CI Observed  \\\n",
       "0                       102.3                       102.9   521065   \n",
       "1                        94.9                        95.4   476774   \n",
       "2                        98.3                        98.9   486173   \n",
       "3                        80.5                          81   397738   \n",
       "4                       104.8                       105.4   512608   \n",
       "\n",
       "   Population  Expected  Percent unclassified  \n",
       "0    57690300  507865.9                   NaN  \n",
       "1    57106400  500993.5                   NaN  \n",
       "2    56554900  493128.1                   NaN  \n",
       "3    56550100  492767.4                   NaN  \n",
       "4    56287000  487822.8                   NaN  "
      ]
     },
     "execution_count": 6,
     "metadata": {},
     "output_type": "execute_result"
    }
   ],
   "source": [
    "df.head()"
   ]
  },
  {
   "cell_type": "code",
   "execution_count": 7,
   "id": "1614a59d-bdf4-4113-8ad8-a94e922a3d75",
   "metadata": {},
   "outputs": [
    {
     "data": {
      "text/plain": [
       "(57639, 16)"
      ]
     },
     "execution_count": 7,
     "metadata": {},
     "output_type": "execute_result"
    }
   ],
   "source": [
    "df.shape"
   ]
  },
  {
   "cell_type": "code",
   "execution_count": 8,
   "id": "82dff3ad-ca5f-44a8-a050-e1f50ba28bf7",
   "metadata": {},
   "outputs": [
    {
     "name": "stdout",
     "output_type": "stream",
     "text": [
      "<class 'pandas.core.frame.DataFrame'>\n",
      "RangeIndex: 57639 entries, 0 to 57638\n",
      "Data columns (total 16 columns):\n",
      " #   Column                       Non-Null Count  Dtype  \n",
      "---  ------                       --------------  -----  \n",
      " 0   Year                         57639 non-null  object \n",
      " 1   Quarter                      57639 non-null  object \n",
      " 2   Period of coverage           57639 non-null  object \n",
      " 3   Breakdown                    57639 non-null  object \n",
      " 4   Level                        57639 non-null  object \n",
      " 5   Level description            57639 non-null  object \n",
      " 6   Indicator value              57639 non-null  object \n",
      " 7   Lower CI                     57639 non-null  object \n",
      " 8   Upper CI                     57639 non-null  object \n",
      " 9   Standardised ratio           57639 non-null  object \n",
      " 10  Standardised ratio lower CI  57639 non-null  object \n",
      " 11  Standardised ratio upper CI  57639 non-null  object \n",
      " 12  Observed                     57639 non-null  object \n",
      " 13  Population                   57639 non-null  int64  \n",
      " 14  Expected                     57639 non-null  object \n",
      " 15  Percent unclassified         49279 non-null  float64\n",
      "dtypes: float64(1), int64(1), object(14)\n",
      "memory usage: 7.0+ MB\n"
     ]
    }
   ],
   "source": [
    "df.info()"
   ]
  },
  {
   "cell_type": "code",
   "execution_count": 9,
   "id": "ffcb0398-0961-448c-b1ae-28128aca5f3a",
   "metadata": {},
   "outputs": [],
   "source": [
    "# Convert columns to numeric\n",
    "cols_to_convert = [\n",
    "    'Indicator value', \n",
    "    'Lower CI', \n",
    "    'Upper CI',\n",
    "    'Standardised ratio', \n",
    "    'Standardised ratio lower CI',\n",
    "    'Standardised ratio upper CI', \n",
    "    'Observed', \n",
    "    'Population', \n",
    "    'Expected']\n",
    "\n",
    "for col in cols_to_convert:\n",
    "    df_raw[col] = pd.to_numeric(df_raw[col], errors='coerce')"
   ]
  },
  {
   "cell_type": "code",
   "execution_count": 10,
   "id": "00df8d2a-45ef-43b6-a28b-cfe125ffed50",
   "metadata": {},
   "outputs": [
    {
     "name": "stdout",
     "output_type": "stream",
     "text": [
      "<class 'pandas.core.frame.DataFrame'>\n",
      "RangeIndex: 57639 entries, 0 to 57638\n",
      "Data columns (total 16 columns):\n",
      " #   Column                       Non-Null Count  Dtype  \n",
      "---  ------                       --------------  -----  \n",
      " 0   Year                         57639 non-null  object \n",
      " 1   Quarter                      57639 non-null  object \n",
      " 2   Period of coverage           57639 non-null  object \n",
      " 3   Breakdown                    57639 non-null  object \n",
      " 4   Level                        57639 non-null  object \n",
      " 5   Level description            57639 non-null  object \n",
      " 6   Indicator value              57639 non-null  object \n",
      " 7   Lower CI                     57639 non-null  object \n",
      " 8   Upper CI                     57639 non-null  object \n",
      " 9   Standardised ratio           57639 non-null  object \n",
      " 10  Standardised ratio lower CI  57639 non-null  object \n",
      " 11  Standardised ratio upper CI  57639 non-null  object \n",
      " 12  Observed                     57639 non-null  object \n",
      " 13  Population                   57639 non-null  int64  \n",
      " 14  Expected                     57639 non-null  object \n",
      " 15  Percent unclassified         49279 non-null  float64\n",
      "dtypes: float64(1), int64(1), object(14)\n",
      "memory usage: 7.0+ MB\n"
     ]
    }
   ],
   "source": [
    "df.info()"
   ]
  },
  {
   "cell_type": "code",
   "execution_count": 11,
   "id": "6ddc6eaa-de25-4a50-8d4e-6e136fecdac6",
   "metadata": {},
   "outputs": [
    {
     "data": {
      "text/plain": [
       "Index(['Year', 'Quarter', 'Period of coverage', 'Breakdown', 'Level',\n",
       "       'Level description', 'Indicator value', 'Lower CI', 'Upper CI',\n",
       "       'Standardised ratio', 'Standardised ratio lower CI',\n",
       "       'Standardised ratio upper CI', 'Observed', 'Population', 'Expected',\n",
       "       'Percent unclassified'],\n",
       "      dtype='object')"
      ]
     },
     "execution_count": 11,
     "metadata": {},
     "output_type": "execute_result"
    }
   ],
   "source": [
    "df.columns"
   ]
  },
  {
   "cell_type": "code",
   "execution_count": 12,
   "id": "70ba834f-2d05-4a20-b9dc-51c860747ec6",
   "metadata": {},
   "outputs": [
    {
     "data": {
      "text/plain": [
       "Year                              0\n",
       "Quarter                           0\n",
       "Period of coverage                0\n",
       "Breakdown                         0\n",
       "Level                             0\n",
       "Level description                 0\n",
       "Indicator value                   0\n",
       "Lower CI                          0\n",
       "Upper CI                          0\n",
       "Standardised ratio                0\n",
       "Standardised ratio lower CI       0\n",
       "Standardised ratio upper CI       0\n",
       "Observed                          0\n",
       "Population                        0\n",
       "Expected                          0\n",
       "Percent unclassified           8360\n",
       "dtype: int64"
      ]
     },
     "execution_count": 12,
     "metadata": {},
     "output_type": "execute_result"
    }
   ],
   "source": [
    "df.isnull().sum()"
   ]
  },
  {
   "cell_type": "code",
   "execution_count": 13,
   "id": "ff3be3eb-0c9e-4103-832f-d2b571e87d74",
   "metadata": {},
   "outputs": [
    {
     "data": {
      "text/plain": [
       "array(['England', 'Female', 'Male', '0 to 4', '5 to 9', '10 to 14',\n",
       "       '15 to 18', '19 to 24', '25 to 29', '30 to 34'], dtype=object)"
      ]
     },
     "execution_count": 13,
     "metadata": {},
     "output_type": "execute_result"
    }
   ],
   "source": [
    "df['Level description'].unique()[:10]"
   ]
  },
  {
   "cell_type": "code",
   "execution_count": 14,
   "id": "f7722db6-d14f-45ed-b267-f5c1efdc7a7c",
   "metadata": {},
   "outputs": [
    {
     "name": "stdout",
     "output_type": "stream",
     "text": [
      "Unique Level description values:  438\n"
     ]
    }
   ],
   "source": [
    "print('Unique Level description values: ', df['Level description'].nunique())"
   ]
  },
  {
   "cell_type": "code",
   "execution_count": 15,
   "id": "a7748922-fdc0-428d-bd8d-2ecb33c351c4",
   "metadata": {},
   "outputs": [],
   "source": [
    "sex_labels = ['Male', 'Female']\n",
    "national_labels = ['England']\n",
    "age_groups = [f'{i} to {i+4}' for i in range(0, 90, 5)] + ['90+']\n",
    "deprivation_labels = ['1 - Most deprived', '10 - Least deplrived'] + [str(i) for i in range(2, 10)]\n",
    "\n",
    "known_regions = ['Adur', 'Amber Valley', 'Arun', 'Ashfield', 'Ashford', 'Babergh', 'Barking and Dagenham', 'Barnet', 'Barnsley', 'Basildon',\n",
    "                 'Basingstoke and Deane', 'Bassetlaw', 'Bath and North East Somerset', 'Bedford', 'Bexley', 'Birmingham','Blaby', \n",
    "                 'Blackburn with Darwen', 'Blackpool', 'London', 'Bolsover', 'Bolton', 'Boston', 'Bournemouth, Christchurch and Poole', \n",
    "                 'Bracknell Forest', 'Bradford', 'Braintree', 'Breckland', 'Brent', 'Brentwood', 'Brighton and Hove', 'Bristol, City of', \n",
    "                 'Broadland', 'Bromley', 'Bromsgrove', 'Broxbourne', 'Broxtowe', 'Buckinghamshire', 'Burnley', 'Bury', 'Calderdale', \n",
    "                 'Cambridge', 'Camden', 'Cannock Chase', 'Canterbury', 'Castle Point', 'Central Bedfordshire', 'Charnwood', 'Chelmsford', \n",
    "                 'Cheltenham', 'Cherwell', 'Cheshire East', 'Cheshire West and Chester', 'Chesterfield', 'Chichester', 'Chorley', \n",
    "                 'City of London', 'Colchester', 'Cornwall', 'Cotswold', 'County Durham', 'Coventry', 'Crawley', 'Croydon', 'Cumberland', \n",
    "                 'Dacorum', 'Darlington', 'Dartford', 'Derby', 'Derbyshire Dales', 'Doncaster', 'Dorset', 'Dover', 'Dudley', 'Ealing', \n",
    "                 'East Cambridgeshire', 'East Devon', 'East Hampshire', 'East Hertfordshire', 'East Lindsey', 'East Riding of Yorkshire', \n",
    "                 'East Staffordshire', 'East Suffolk', 'Eastbourne', 'Eastleigh', 'Elmbridge', 'Enfield', 'Epping Forest', 'Epsom and Ewell',\n",
    "                 'Erewash', 'Exeter', 'Fareham', 'Fenland', 'Folkestone and Hythe', 'Forest of Dean', 'Fylde', 'Gateshead', 'Gedling', \n",
    "                 'Gloucester', 'Gosport', 'Gravesham', 'Great Yarmouth', 'Greenwich', 'Guildford', 'Hackney', 'Halton', \n",
    "                 'Hammersmith and Fulham', 'Harborough', 'Haringey', 'Harlow', 'Harrow', 'Hart', 'Hartlepool', 'Hastings', 'Havant', \n",
    "                 'Havering', 'Herefordshire, County of', 'Hertsmere', 'High Peak', 'Hillingdon', 'Hinckley and Bosworth', 'Horsham', \n",
    "                 'Hounslow', 'Huntingdonshire', 'Hyndburn', 'Ipswich', 'Isle of Wight', 'Isles of Scilly', 'Islington', \n",
    "                 'Kensington and Chelsea', \"King's Lynn and West Norfolk\", 'Kingston upon Hull, City of', 'Kingston upon Thames', \n",
    "                 'Kirklees', 'Knowsley', 'Lambeth', 'Lancaster', 'Leeds', 'Leicester', 'Lewes', 'Lewisham', 'Lichfield', 'Lincoln', \n",
    "                 'Liverpool', 'Luton', 'Maidstone', 'Maldon', 'Malvern Hills', 'Manchester', 'Mansfield', 'Medway', 'Melton', 'Merton', \n",
    "                 'Mid Devon', 'Mid Suffolk', 'Mid Sussex', 'Middlesbrough', 'Milton Keynes', 'Mole Valley', 'New Forest',\n",
    "                 'Newark and Sherwood', 'Newcastle upon Tyne', 'Newcastle-under-Lyme', 'Newham', 'North Devon', 'North East Derbyshire', \n",
    "                 'North East Lincolnshire', 'North Hertfordshire', 'North Kesteven', 'North Lincolnshire', 'North Norfolk', \n",
    "                 'North Northamptonshire', 'North Somerset', 'North Tyneside', 'North Warwickshire', 'North West Leicestershire', \n",
    "                 'North Yorkshire', 'Northumberland', 'Norwich', 'Nottingham', 'Nuneaton and Bedworth', 'Oadby and Wigston', 'Oldham', \n",
    "                 'Oxford', 'Pendle', 'Peterborough', 'Plymouth', 'Portsmouth', 'Preston', 'Reading', 'Redbridge', 'Redcar and Cleveland', \n",
    "                 'Redditch', 'Reigate and Banstead', 'Ribble Valley', 'Richmond upon Thames', 'Rochdale', 'Rochford', 'Rossendale', \n",
    "                 'Rother', 'Rotherham', 'Rugby', 'Runnymede', 'Rushcliffe', 'Rushmoor', 'Rutland', 'Salford', 'Sandwell', 'Sefton', \n",
    "                 'Sevenoaks', 'Sheffield', 'Shropshire', 'Slough', 'Solihull', 'Somerset', 'South Cambridgeshire', 'South Derbyshire',\n",
    "                 'South Gloucestershire', 'South Hams', 'South Holland', 'South Kesteven', 'South Norfolk', 'South Oxfordshire',\n",
    "                 'South Ribble', 'South Staffordshire', 'South Tyneside', 'Southampton', 'Southend-on-Sea', 'Southwark', 'Spelthorne',\n",
    "                 'St Albans', 'St. Helens', 'Stafford', 'Staffordshire Moorlands', 'Stevenage', 'Stockport', 'Stockton-on-Tees', \n",
    "                 'Stoke-on-Trent', 'Stratford-on-Avon', 'Stroud', 'Sunderland', 'Surrey Heath', 'Sutton', 'Swale', 'Swindon', 'Tameside', \n",
    "                 'Tamworth', 'Tandridge', 'Teignbridge', 'Telford and Wrekin', 'Tendring', 'Test Valley', 'Tewkesbury', 'Thanet', \n",
    "                 'Three Rivers', 'Thurrock', 'Tonbridge and Malling', 'Torbay', 'Torridge', 'Tower Hamlets', 'Trafford', 'Tunbridge Wells', \n",
    "                 'Uttlesford', 'Vale of White Horse', 'Wakefield', 'Walsall', 'Waltham Forest', 'Wandsworth', 'Warrington', 'Warwick', \n",
    "                 'Watford', 'Waverley', 'Wealden', 'Welwyn Hatfield', 'West Berkshire', 'West Devon', 'West Lancashire', 'West Lindsey', \n",
    "                 'West Northamptonshire', 'West Oxfordshire', 'West Suffolk', 'Westminster', 'Westmorland and Furness', 'Wigan', \n",
    "                 'Wiltshire', 'Winchester', 'Windsor and Maidenhead', 'Wirral', 'Woking', 'Wokingham', 'Wolverhampton', 'Worcester', \n",
    "                 'Worthing', 'Wychavon', 'Wyre', 'Wyre Forest', 'York', 'Allerdale', 'Barrow-in-Furness', 'Carlisle', 'Copeland', 'Craven', \n",
    "                 'Eden', 'Hambleton', 'Harrogate', 'Mendip', 'Richmondshire', 'Ryedale', 'Scarborough', 'Sedgemoor', 'Selby', \n",
    "                 'Somerset West and Taunton', 'South Lakeland', 'South Somerset', 'Corby', 'Daventry', 'East Northamptonshire', 'Kettering', \n",
    "                 'Northampton', 'South Northamptonshire', 'Wellingborough', 'Aylesbury Vale', 'Chiltern', 'South Bucks', 'Wycombe', \n",
    "                 'Bournemouth', 'Christchurch', 'East Dorset', 'Forest Heath', 'North Dorset', 'Poole', 'Purbeck', 'St Edmundsbury', \n",
    "                 'Suffolk Coastal', 'Taunton Deane', 'Waveney', 'West Dorset', 'West Somerset', 'Weymouth and Portland', 'Shepway',\n",
    "                 'Cambridgeshire', 'Derbyshire', 'Devon', 'East Sussex', 'Essex', 'Gloucestershire', 'Hampshire', 'Hertfordshire', 'Kent',\n",
    "                 'Lancashire', 'Leicestershire', 'Lincolnshire', 'Norfolk', 'Nottinghamshire', 'Oxfordshire', 'Staffordshire', 'Suffolk',\n",
    "                 'Surrey', 'Warwickshire', 'West Sussex', 'Worcestershire', 'Cumbria', 'Northamptonshire', 'East Midlands', 'East of England',\n",
    "                 'North East', 'North West', 'South East', 'South West', 'West Midlands', 'Yorkshire and The Humber']\n",
    "\n",
    "known_conditions = ['Acute bronchitis', 'Angina pectoris', 'Asthma', 'Atrial fibrillation and flutter', 'Bronchiectasis',\n",
    "                    'Chronic ischaemic heart disease', 'Chronic viral hepatitis B with delta-agent', \n",
    "                    'Chronic viral hepatitis B without delta-agent', 'Dementia in Alzheimer disease',\n",
    "                    'Dementia in other diseases classified elsewhere', 'Emphysema', 'Epilepsy', 'Essential (primary) hypertension',\n",
    "                    'Folate deficiency anaemia', 'Heart failure', 'Hypertensive heart and renal disease with (congestive) heart failure',\n",
    "                    'Hypertensive heart disease with (congestive) heart failure', \n",
    "                    'Hypertensive heart disease without (congestive) heart failure', 'Insulin-dependent diabetes mellitus',\n",
    "                    'Iron deficiency anaemia, unspecified', 'Malnutrition-related diabetes mellitus',\n",
    "                    'Non-insulin-dependent diabetes mellitus', 'Other chronic obstructive pulmonary disease',\n",
    "                    'Other iron deficiency anaemias', 'Other specified diabetes mellitus', 'Pulmonary oedema', 'Sideropenic dysphagia',\n",
    "                    'Simple and mucopurulent chronic bronchitis', 'Status asthmaticus', 'Status epilepticus', \n",
    "                    'Unspecified chronic bronchitis', 'Unspecified dementia', 'Unspecified diabetes mellitus','Vascular dementia', \n",
    "                    'Vitamin B12 deficiency anaemia']\n",
    "\n",
    "def categorise_level_description(value):\n",
    "    if value in national_labels:\n",
    "        return 'National'\n",
    "    elif value in sex_labels:\n",
    "        return 'Gender'\n",
    "    elif value in age_groups:\n",
    "        return 'Age'\n",
    "    elif value in deprivation_labels:\n",
    "        return 'Deprivation'\n",
    "    elif value in known_regions:\n",
    "        return 'Region'\n",
    "    elif value in known_conditions:\n",
    "        return 'Condition'\n",
    "    else:\n",
    "        return 'Umknown'\n",
    "\n",
    "df['Category'] = df['Level description'].apply(categorise_level_description)\n"
   ]
  },
  {
   "cell_type": "code",
   "execution_count": 16,
   "id": "cb04ae05-edfb-4c94-bd83-b67d9e7d1dc2",
   "metadata": {},
   "outputs": [
    {
     "name": "stderr",
     "output_type": "stream",
     "text": [
      "/var/folders/c2/lbl69d113l3cxk_srs9x7_cc0000gn/T/ipykernel_48732/4102690978.py:1: FutureWarning: Series.replace without 'value' and with non-dict-like 'to_replace' is deprecated and will raise in a future version. Explicitly specify the new values instead.\n",
      "  df['Percent unclassified'].replace(df['Percent unclassified'].median(), inplace=True)\n",
      "/var/folders/c2/lbl69d113l3cxk_srs9x7_cc0000gn/T/ipykernel_48732/4102690978.py:1: FutureWarning: A value is trying to be set on a copy of a DataFrame or Series through chained assignment using an inplace method.\n",
      "The behavior will change in pandas 3.0. This inplace method will never work because the intermediate object on which we are setting values always behaves as a copy.\n",
      "\n",
      "For example, when doing 'df[col].method(value, inplace=True)', try using 'df.method({col: value}, inplace=True)' or df[col] = df[col].method(value) instead, to perform the operation inplace on the original object.\n",
      "\n",
      "\n",
      "  df['Percent unclassified'].replace(df['Percent unclassified'].median(), inplace=True)\n"
     ]
    }
   ],
   "source": [
    "df['Percent unclassified'].replace(df['Percent unclassified'].median(), inplace=True)"
   ]
  },
  {
   "cell_type": "code",
   "execution_count": 17,
   "id": "853a3994-9bac-47fc-8cf5-d8770c7f78ea",
   "metadata": {},
   "outputs": [
    {
     "data": {
      "text/plain": [
       "Year                              0\n",
       "Quarter                           0\n",
       "Period of coverage                0\n",
       "Breakdown                         0\n",
       "Level                             0\n",
       "Level description                 0\n",
       "Indicator value                   0\n",
       "Lower CI                          0\n",
       "Upper CI                          0\n",
       "Standardised ratio                0\n",
       "Standardised ratio lower CI       0\n",
       "Standardised ratio upper CI       0\n",
       "Observed                          0\n",
       "Population                        0\n",
       "Expected                          0\n",
       "Percent unclassified           8838\n",
       "Category                          0\n",
       "dtype: int64"
      ]
     },
     "execution_count": 17,
     "metadata": {},
     "output_type": "execute_result"
    }
   ],
   "source": [
    "df.isnull().sum()"
   ]
  },
  {
   "cell_type": "code",
   "execution_count": 18,
   "id": "75c1203b-d895-4de4-81d4-3353271900fe",
   "metadata": {},
   "outputs": [
    {
     "data": {
      "text/plain": [
       "Year                             0\n",
       "Quarter                          0\n",
       "Period of coverage               0\n",
       "Breakdown                        0\n",
       "Level                            0\n",
       "Level description                0\n",
       "Indicator value                362\n",
       "Lower CI                       362\n",
       "Upper CI                       362\n",
       "Standardised ratio             362\n",
       "Standardised ratio lower CI    362\n",
       "Standardised ratio upper CI    362\n",
       "Observed                       360\n",
       "Population                       0\n",
       "Expected                       349\n",
       "Percent unclassified             0\n",
       "Category                         0\n",
       "dtype: int64"
      ]
     },
     "execution_count": 18,
     "metadata": {},
     "output_type": "execute_result"
    }
   ],
   "source": [
    "(df == '*').sum()"
   ]
  },
  {
   "cell_type": "code",
   "execution_count": 19,
   "id": "adb4cf2d-6210-4718-a5fc-aab2ad188016",
   "metadata": {},
   "outputs": [
    {
     "name": "stdout",
     "output_type": "stream",
     "text": [
      "Columns with * values:,  ['Indicator value', 'Lower CI', 'Upper CI', 'Standardised ratio', 'Standardised ratio lower CI', 'Standardised ratio upper CI', 'Observed', 'Expected']\n"
     ]
    }
   ],
   "source": [
    "star_col = (df == '*').sum()\n",
    "affected_cols = star_col[star_col > 0].index.tolist()\n",
    "print('Columns with * values:, ', affected_cols)"
   ]
  },
  {
   "cell_type": "code",
   "execution_count": 20,
   "id": "ed1232fb-ec94-425c-a1e2-9b9928bbe22f",
   "metadata": {},
   "outputs": [],
   "source": [
    "for col in affected_cols:\n",
    "    df[col] = pd.to_numeric(df[col], errors='coerce')"
   ]
  },
  {
   "cell_type": "code",
   "execution_count": 21,
   "id": "c929d399-a927-4ef1-aaea-c2cc56b22561",
   "metadata": {},
   "outputs": [
    {
     "name": "stderr",
     "output_type": "stream",
     "text": [
      "/var/folders/c2/lbl69d113l3cxk_srs9x7_cc0000gn/T/ipykernel_48732/2950632415.py:2: FutureWarning: A value is trying to be set on a copy of a DataFrame or Series through chained assignment using an inplace method.\n",
      "The behavior will change in pandas 3.0. This inplace method will never work because the intermediate object on which we are setting values always behaves as a copy.\n",
      "\n",
      "For example, when doing 'df[col].method(value, inplace=True)', try using 'df.method({col: value}, inplace=True)' or df[col] = df[col].method(value) instead, to perform the operation inplace on the original object.\n",
      "\n",
      "\n",
      "  df[col].fillna(df[col].median(), inplace=True)\n",
      "/var/folders/c2/lbl69d113l3cxk_srs9x7_cc0000gn/T/ipykernel_48732/2950632415.py:2: FutureWarning: A value is trying to be set on a copy of a DataFrame or Series through chained assignment using an inplace method.\n",
      "The behavior will change in pandas 3.0. This inplace method will never work because the intermediate object on which we are setting values always behaves as a copy.\n",
      "\n",
      "For example, when doing 'df[col].method(value, inplace=True)', try using 'df.method({col: value}, inplace=True)' or df[col] = df[col].method(value) instead, to perform the operation inplace on the original object.\n",
      "\n",
      "\n",
      "  df[col].fillna(df[col].median(), inplace=True)\n",
      "/var/folders/c2/lbl69d113l3cxk_srs9x7_cc0000gn/T/ipykernel_48732/2950632415.py:2: FutureWarning: A value is trying to be set on a copy of a DataFrame or Series through chained assignment using an inplace method.\n",
      "The behavior will change in pandas 3.0. This inplace method will never work because the intermediate object on which we are setting values always behaves as a copy.\n",
      "\n",
      "For example, when doing 'df[col].method(value, inplace=True)', try using 'df.method({col: value}, inplace=True)' or df[col] = df[col].method(value) instead, to perform the operation inplace on the original object.\n",
      "\n",
      "\n",
      "  df[col].fillna(df[col].median(), inplace=True)\n",
      "/var/folders/c2/lbl69d113l3cxk_srs9x7_cc0000gn/T/ipykernel_48732/2950632415.py:2: FutureWarning: A value is trying to be set on a copy of a DataFrame or Series through chained assignment using an inplace method.\n",
      "The behavior will change in pandas 3.0. This inplace method will never work because the intermediate object on which we are setting values always behaves as a copy.\n",
      "\n",
      "For example, when doing 'df[col].method(value, inplace=True)', try using 'df.method({col: value}, inplace=True)' or df[col] = df[col].method(value) instead, to perform the operation inplace on the original object.\n",
      "\n",
      "\n",
      "  df[col].fillna(df[col].median(), inplace=True)\n",
      "/var/folders/c2/lbl69d113l3cxk_srs9x7_cc0000gn/T/ipykernel_48732/2950632415.py:2: FutureWarning: A value is trying to be set on a copy of a DataFrame or Series through chained assignment using an inplace method.\n",
      "The behavior will change in pandas 3.0. This inplace method will never work because the intermediate object on which we are setting values always behaves as a copy.\n",
      "\n",
      "For example, when doing 'df[col].method(value, inplace=True)', try using 'df.method({col: value}, inplace=True)' or df[col] = df[col].method(value) instead, to perform the operation inplace on the original object.\n",
      "\n",
      "\n",
      "  df[col].fillna(df[col].median(), inplace=True)\n",
      "/var/folders/c2/lbl69d113l3cxk_srs9x7_cc0000gn/T/ipykernel_48732/2950632415.py:2: FutureWarning: A value is trying to be set on a copy of a DataFrame or Series through chained assignment using an inplace method.\n",
      "The behavior will change in pandas 3.0. This inplace method will never work because the intermediate object on which we are setting values always behaves as a copy.\n",
      "\n",
      "For example, when doing 'df[col].method(value, inplace=True)', try using 'df.method({col: value}, inplace=True)' or df[col] = df[col].method(value) instead, to perform the operation inplace on the original object.\n",
      "\n",
      "\n",
      "  df[col].fillna(df[col].median(), inplace=True)\n",
      "/var/folders/c2/lbl69d113l3cxk_srs9x7_cc0000gn/T/ipykernel_48732/2950632415.py:2: FutureWarning: A value is trying to be set on a copy of a DataFrame or Series through chained assignment using an inplace method.\n",
      "The behavior will change in pandas 3.0. This inplace method will never work because the intermediate object on which we are setting values always behaves as a copy.\n",
      "\n",
      "For example, when doing 'df[col].method(value, inplace=True)', try using 'df.method({col: value}, inplace=True)' or df[col] = df[col].method(value) instead, to perform the operation inplace on the original object.\n",
      "\n",
      "\n",
      "  df[col].fillna(df[col].median(), inplace=True)\n",
      "/var/folders/c2/lbl69d113l3cxk_srs9x7_cc0000gn/T/ipykernel_48732/2950632415.py:2: FutureWarning: A value is trying to be set on a copy of a DataFrame or Series through chained assignment using an inplace method.\n",
      "The behavior will change in pandas 3.0. This inplace method will never work because the intermediate object on which we are setting values always behaves as a copy.\n",
      "\n",
      "For example, when doing 'df[col].method(value, inplace=True)', try using 'df.method({col: value}, inplace=True)' or df[col] = df[col].method(value) instead, to perform the operation inplace on the original object.\n",
      "\n",
      "\n",
      "  df[col].fillna(df[col].median(), inplace=True)\n"
     ]
    }
   ],
   "source": [
    "for col in affected_cols:\n",
    "    df[col].fillna(df[col].median(), inplace=True)"
   ]
  },
  {
   "cell_type": "code",
   "execution_count": 22,
   "id": "c9daaefc-ce1c-44c1-8d9c-8d34dc00699f",
   "metadata": {},
   "outputs": [
    {
     "name": "stdout",
     "output_type": "stream",
     "text": [
      "Year                           0\n",
      "Quarter                        0\n",
      "Period of coverage             0\n",
      "Breakdown                      0\n",
      "Level                          0\n",
      "Level description              0\n",
      "Indicator value                0\n",
      "Lower CI                       0\n",
      "Upper CI                       0\n",
      "Standardised ratio             0\n",
      "Standardised ratio lower CI    0\n",
      "Standardised ratio upper CI    0\n",
      "Observed                       0\n",
      "Population                     0\n",
      "Expected                       0\n",
      "Percent unclassified           0\n",
      "Category                       0\n",
      "dtype: int64\n",
      "Year                            object\n",
      "Quarter                         object\n",
      "Period of coverage              object\n",
      "Breakdown                       object\n",
      "Level                           object\n",
      "Level description               object\n",
      "Indicator value                float64\n",
      "Lower CI                       float64\n",
      "Upper CI                       float64\n",
      "Standardised ratio             float64\n",
      "Standardised ratio lower CI    float64\n",
      "Standardised ratio upper CI    float64\n",
      "Observed                       float64\n",
      "Population                       int64\n",
      "Expected                       float64\n",
      "Percent unclassified           float64\n",
      "Category                        object\n",
      "dtype: object\n"
     ]
    }
   ],
   "source": [
    "print((df == '*').sum())\n",
    "print(df.dtypes)"
   ]
  },
  {
   "cell_type": "code",
   "execution_count": 23,
   "id": "0deeb8dc-60d3-472b-a4ec-d9ccfb492918",
   "metadata": {},
   "outputs": [],
   "source": [
    "# Saved the cleaned version\n",
    "\n",
    "df.to_csv('../data/processed/emergency_readmission_cleaned.csv', index=False)"
   ]
  },
  {
   "cell_type": "markdown",
   "id": "83e7c0e6-10a4-4f09-a6e2-332cb21f8f11",
   "metadata": {},
   "source": [
    "#### Inserting into PostgreSQL"
   ]
  },
  {
   "cell_type": "code",
   "execution_count": 24,
   "id": "48c9ab23-3ab3-401b-a4a1-97f81daac829",
   "metadata": {},
   "outputs": [
    {
     "name": "stdout",
     "output_type": "stream",
     "text": [
      "Inserted data into table: readmission_cleaned\n"
     ]
    }
   ],
   "source": [
    "insert_dataframe_to_db(df, 'readmission_cleaned')"
   ]
  },
  {
   "cell_type": "code",
   "execution_count": null,
   "id": "8734910c-94eb-432e-b423-3c9b5d7e4d6c",
   "metadata": {},
   "outputs": [],
   "source": []
  }
 ],
 "metadata": {
  "kernelspec": {
   "display_name": "Python 3 (ipykernel)",
   "language": "python",
   "name": "python3"
  },
  "language_info": {
   "codemirror_mode": {
    "name": "ipython",
    "version": 3
   },
   "file_extension": ".py",
   "mimetype": "text/x-python",
   "name": "python",
   "nbconvert_exporter": "python",
   "pygments_lexer": "ipython3",
   "version": "3.12.7"
  }
 },
 "nbformat": 4,
 "nbformat_minor": 5
}
